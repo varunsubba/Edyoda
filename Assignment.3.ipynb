{
 "cells": [
  {
   "cell_type": "code",
   "execution_count": 1,
   "id": "f8be456e",
   "metadata": {},
   "outputs": [
    {
     "name": "stdout",
     "output_type": "stream",
     "text": [
      "Number of even numbers:4\n",
      "Number of odd numbers:5\n"
     ]
    }
   ],
   "source": [
    "#You can even check the number which are odds or even by calling them.\n",
    "numbers =(1, 2, 3, 4, 5, 6, 7, 8, 9)\n",
    "even=[]\n",
    "odd=[]\n",
    "for i in numbers:\n",
    "    if i%2==0:\n",
    "        even.append(i)\n",
    "    else:\n",
    "        odd.append(i)\n",
    "print(f\"Number of even numbers:{len(even)}\")\n",
    "print(f\"Number of odd numbers:{len(odd)}\")"
   ]
  },
  {
   "cell_type": "code",
   "execution_count": null,
   "id": "916ee16c",
   "metadata": {},
   "outputs": [],
   "source": []
  }
 ],
 "metadata": {
  "kernelspec": {
   "display_name": "Python 3 (ipykernel)",
   "language": "python",
   "name": "python3"
  },
  "language_info": {
   "codemirror_mode": {
    "name": "ipython",
    "version": 3
   },
   "file_extension": ".py",
   "mimetype": "text/x-python",
   "name": "python",
   "nbconvert_exporter": "python",
   "pygments_lexer": "ipython3",
   "version": "3.10.0"
  }
 },
 "nbformat": 4,
 "nbformat_minor": 5
}
