{
 "cells": [
  {
   "cell_type": "markdown",
   "id": "010e6edf",
   "metadata": {},
   "source": [
    "Sample String : 'The quick Brow Fox'\n",
    "\n",
    "Expected Output :\n",
    "\n",
    "No. of Upper case characters : 3\n",
    "\n",
    "No. of Lower case Characters : 12"
   ]
  },
  {
   "cell_type": "code",
   "execution_count": 1,
   "id": "415a88f9",
   "metadata": {},
   "outputs": [],
   "source": [
    "def count(string):\n",
    "    count_lower=0\n",
    "    count_upper=0\n",
    "    for i in string:\n",
    "        if i.islower():\n",
    "            count_lower=count_lower+1\n",
    "        elif i.isupper():\n",
    "            count_upper=count_upper+1\n",
    "    print(f\"No. of Upper case characters : {count_upper}\")\n",
    "    print(f\"No. of Upper case characters : {count_lower}\")\n",
    "        "
   ]
  },
  {
   "cell_type": "code",
   "execution_count": 4,
   "id": "1b68ed50",
   "metadata": {},
   "outputs": [
    {
     "name": "stdout",
     "output_type": "stream",
     "text": [
      "No. of Upper case characters : 3\n",
      "No. of Upper case characters : 12\n"
     ]
    }
   ],
   "source": [
    "count('The quick Brow Fox')"
   ]
  },
  {
   "cell_type": "code",
   "execution_count": null,
   "id": "9685cd7c",
   "metadata": {},
   "outputs": [],
   "source": []
  }
 ],
 "metadata": {
  "kernelspec": {
   "display_name": "Python 3 (ipykernel)",
   "language": "python",
   "name": "python3"
  },
  "language_info": {
   "codemirror_mode": {
    "name": "ipython",
    "version": 3
   },
   "file_extension": ".py",
   "mimetype": "text/x-python",
   "name": "python",
   "nbconvert_exporter": "python",
   "pygments_lexer": "ipython3",
   "version": "3.9.7"
  }
 },
 "nbformat": 4,
 "nbformat_minor": 5
}
