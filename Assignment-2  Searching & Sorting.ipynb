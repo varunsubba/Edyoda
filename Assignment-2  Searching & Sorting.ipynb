{
 "cells": [
  {
   "cell_type": "markdown",
   "id": "317501cc",
   "metadata": {},
   "source": [
    "Implement Binary Search"
   ]
  },
  {
   "cell_type": "code",
   "execution_count": null,
   "id": "22af083d",
   "metadata": {},
   "outputs": [],
   "source": [
    "def b_s(arr,ele,low,high):\n",
    "    if low > high:\n",
    "        print(\"Wrong input\")\n",
    "        return\n",
    "    mid_index=(low+high)//2\n",
    "    if ele==arr[mid_index]:\n",
    "        print(f\"Element {ele} found in index {mid_index}\")\n",
    "    else:\n",
    "        if ele>arr[mid_index]:\n",
    "            low=mid_index+1\n",
    "            b_s(arr,ele,low,high)\n",
    "        else:\n",
    "            high=mid_index-1\n",
    "            b_s(arr,ele,low,high)"
   ]
  },
  {
   "cell_type": "markdown",
   "id": "69095880",
   "metadata": {},
   "source": [
    "Implement Merge Sort"
   ]
  },
  {
   "cell_type": "code",
   "execution_count": 2,
   "id": "bddd0b2a",
   "metadata": {},
   "outputs": [],
   "source": [
    "def mergeSort(myList):\n",
    "    if len(myList) > 1:\n",
    "        mid = len(myList) // 2\n",
    "        left = myList[:mid]\n",
    "        right = myList[mid:]\n",
    "\n",
    "        # Recursive call on each half\n",
    "        mergeSort(left)\n",
    "        mergeSort(right)\n",
    "\n",
    "        # Two iterators for traversing the two halves\n",
    "        i = 0\n",
    "        j = 0\n",
    "        \n",
    "        # Iterator for the main list\n",
    "        k = 0\n",
    "        \n",
    "        while i < len(left) and j < len(right):\n",
    "            if left[i] <= right[j]:\n",
    "              # The value from the left half has been used\n",
    "              myList[k] = left[i]\n",
    "              # Move the iterator forward\n",
    "              i += 1\n",
    "            else:\n",
    "                myList[k] = right[j]\n",
    "                j += 1\n",
    "            # Move to the next slot\n",
    "            k += 1\n",
    "\n",
    "        # For all the remaining values\n",
    "        while i < len(left):\n",
    "            myList[k] = left[i]\n",
    "            i += 1\n",
    "            k += 1\n",
    "\n",
    "        while j < len(right):\n",
    "            myList[k]=right[j]\n",
    "            j += 1\n",
    "            k += 1\n",
    "        return myList \n",
    "\n",
    "    "
   ]
  },
  {
   "cell_type": "code",
   "execution_count": 3,
   "id": "2053e7ba",
   "metadata": {},
   "outputs": [
    {
     "data": {
      "text/plain": [
       "[-92, -44, 4, 4, 5, 5, 6, 23, 23, 23]"
      ]
     },
     "execution_count": 3,
     "metadata": {},
     "output_type": "execute_result"
    }
   ],
   "source": [
    "mergeSort([23,4,5,23,4,5,6,23,-92,-44])"
   ]
  },
  {
   "cell_type": "markdown",
   "id": "4ed7394a",
   "metadata": {},
   "source": [
    "Implement Quick Sort"
   ]
  },
  {
   "cell_type": "code",
   "execution_count": null,
   "id": "73f45a2f",
   "metadata": {},
   "outputs": [],
   "source": [
    "def partition(arr,lb,ub):\n",
    "    pivot=arr[lb]\n",
    "    start=lb\n",
    "    for i in range(lb+1,ub):\n",
    "        if arr[i]<=pivot:\n",
    "            start+=1\n",
    "            arr[start],arr[i]=arr[i],arr[start]\n",
    "    arr[lb],arr[start]=arr[start],arr[lb]\n",
    "    return start\n",
    "def q_s(arr,lb,ub):\n",
    "    if lb<ub:\n",
    "        loc=partition(arr,lb,ub)\n",
    "        q_s(arr,lb,loc-1)\n",
    "        q_s(arr,loc+1,ub)\n",
    "    return arr"
   ]
  },
  {
   "cell_type": "markdown",
   "id": "a42eb205",
   "metadata": {},
   "source": [
    "Implement Insertion Sort"
   ]
  },
  {
   "cell_type": "code",
   "execution_count": 4,
   "id": "22b02723",
   "metadata": {},
   "outputs": [],
   "source": [
    "def insertion_sorting(arr):\n",
    "    for i in range(1,len(arr)):\n",
    "        temp=arr[i]\n",
    "        j=i-1\n",
    "        while j>=0 and arr[j]>temp:\n",
    "            arr[j+1]=arr[j]\n",
    "            j-=1\n",
    "        arr[j+1]=temp\n",
    "    return arr"
   ]
  },
  {
   "cell_type": "code",
   "execution_count": 5,
   "id": "343b0002",
   "metadata": {},
   "outputs": [
    {
     "data": {
      "text/plain": [
       "[-92, -44, 4, 4, 5, 5, 6, 23, 23, 23]"
      ]
     },
     "execution_count": 5,
     "metadata": {},
     "output_type": "execute_result"
    }
   ],
   "source": [
    "insertion_sorting([23,4,5,23,4,5,6,23,-92,-44])"
   ]
  },
  {
   "cell_type": "markdown",
   "id": "73fffb70",
   "metadata": {},
   "source": [
    "Write a program to sort list of strings (similar to that of dictionary)"
   ]
  },
  {
   "cell_type": "code",
   "execution_count": 6,
   "id": "c3452971",
   "metadata": {},
   "outputs": [],
   "source": [
    "def sort_string(arr):\n",
    "    arr.sort()\n",
    "    return arr"
   ]
  },
  {
   "cell_type": "code",
   "execution_count": 7,
   "id": "b4b211d3",
   "metadata": {},
   "outputs": [
    {
     "data": {
      "text/plain": [
       "['a', 'for', 'geeks', 'gfg', 'is', 'portal']"
      ]
     },
     "execution_count": 7,
     "metadata": {},
     "output_type": "execute_result"
    }
   ],
   "source": [
    "sort_string(['gfg', 'is', 'a', 'portal', 'for', 'geeks'])"
   ]
  },
  {
   "cell_type": "code",
   "execution_count": null,
   "id": "a30d7395",
   "metadata": {},
   "outputs": [],
   "source": []
  }
 ],
 "metadata": {
  "kernelspec": {
   "display_name": "Python 3 (ipykernel)",
   "language": "python",
   "name": "python3"
  },
  "language_info": {
   "codemirror_mode": {
    "name": "ipython",
    "version": 3
   },
   "file_extension": ".py",
   "mimetype": "text/x-python",
   "name": "python",
   "nbconvert_exporter": "python",
   "pygments_lexer": "ipython3",
   "version": "3.9.7"
  }
 },
 "nbformat": 4,
 "nbformat_minor": 5
}
