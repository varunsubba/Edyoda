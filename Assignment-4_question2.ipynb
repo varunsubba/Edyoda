{
 "cells": [
  {
   "cell_type": "markdown",
   "id": "010e6edf",
   "metadata": {},
   "source": [
    "Write a Python program to triple all numbers of a given list of integers. Use Python map.\n",
    "\n",
    "\n",
    "\n",
    "sample list: [1, 2, 3, 4, 5, 6, 7]\n",
    "\n",
    "\n",
    "\n",
    "Triple of list numbers:\n",
    "\n",
    "[3, 6, 9, 12, 15, 18, 21]\n",
    "\n"
   ]
  },
  {
   "cell_type": "code",
   "execution_count": 1,
   "id": "415a88f9",
   "metadata": {},
   "outputs": [],
   "source": [
    "sample_list=[1, 2, 3, 4, 5, 6, 7]\n",
    "triple_numbers=list(map((lambda x :x*3),sample_list))"
   ]
  },
  {
   "cell_type": "code",
   "execution_count": 2,
   "id": "9685cd7c",
   "metadata": {},
   "outputs": [
    {
     "data": {
      "text/plain": [
       "[3, 6, 9, 12, 15, 18, 21]"
      ]
     },
     "execution_count": 2,
     "metadata": {},
     "output_type": "execute_result"
    }
   ],
   "source": [
    "triple_numbers"
   ]
  },
  {
   "cell_type": "code",
   "execution_count": null,
   "id": "d92a8fce",
   "metadata": {},
   "outputs": [],
   "source": []
  }
 ],
 "metadata": {
  "kernelspec": {
   "display_name": "Python 3 (ipykernel)",
   "language": "python",
   "name": "python3"
  },
  "language_info": {
   "codemirror_mode": {
    "name": "ipython",
    "version": 3
   },
   "file_extension": ".py",
   "mimetype": "text/x-python",
   "name": "python",
   "nbconvert_exporter": "python",
   "pygments_lexer": "ipython3",
   "version": "3.9.7"
  }
 },
 "nbformat": 4,
 "nbformat_minor": 5
}
