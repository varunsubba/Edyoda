{
 "cells": [
  {
   "cell_type": "code",
   "execution_count": 143,
   "id": "7fae1967",
   "metadata": {},
   "outputs": [],
   "source": [
    "def sum_numbers(list1):\n",
    "    number=0\n",
    "    for i in list1:\n",
    "        number=number+i\n",
    "        print(i,end=\" \")\n",
    "        if i!=list1[len(list1)-1]:\n",
    "            print(\"+\",end=\" \")\n",
    "    print(\"=\",number)\n"
   ]
  },
  {
   "cell_type": "code",
   "execution_count": 144,
   "id": "4896d602",
   "metadata": {},
   "outputs": [
    {
     "name": "stdout",
     "output_type": "stream",
     "text": [
      "8 + 2 + 3 + 0 + 7 = 20\n"
     ]
    }
   ],
   "source": [
    "sum_numbers((8, 2, 3, 0, 7))"
   ]
  },
  {
   "cell_type": "code",
   "execution_count": null,
   "id": "4591ddf3",
   "metadata": {},
   "outputs": [],
   "source": []
  }
 ],
 "metadata": {
  "kernelspec": {
   "display_name": "Python 3 (ipykernel)",
   "language": "python",
   "name": "python3"
  },
  "language_info": {
   "codemirror_mode": {
    "name": "ipython",
    "version": 3
   },
   "file_extension": ".py",
   "mimetype": "text/x-python",
   "name": "python",
   "nbconvert_exporter": "python",
   "pygments_lexer": "ipython3",
   "version": "3.9.7"
  }
 },
 "nbformat": 4,
 "nbformat_minor": 5
}
