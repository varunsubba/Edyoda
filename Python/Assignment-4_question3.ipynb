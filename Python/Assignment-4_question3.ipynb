{
 "cells": [
  {
   "cell_type": "markdown",
   "id": "010e6edf",
   "metadata": {},
   "source": [
    "Write a Python program to square the elements of a list using map() function.\n",
    "\n",
    "\n",
    "\n",
    "Sample List: [4, 5, 2, 9]\n",
    "\n",
    "Square the elements of the list:\n",
    "\n",
    "[16, 25, 4, 81]\n"
   ]
  },
  {
   "cell_type": "code",
   "execution_count": 1,
   "id": "2f510b1c",
   "metadata": {},
   "outputs": [],
   "source": [
    "Sample_List=[4, 5, 2, 9]\n",
    "square_elements=list(map((lambda x:x**2),Sample_List))"
   ]
  },
  {
   "cell_type": "code",
   "execution_count": 2,
   "id": "d1bb2efb",
   "metadata": {},
   "outputs": [
    {
     "data": {
      "text/plain": [
       "[16, 25, 4, 81]"
      ]
     },
     "execution_count": 2,
     "metadata": {},
     "output_type": "execute_result"
    }
   ],
   "source": [
    "square_elements"
   ]
  },
  {
   "cell_type": "code",
   "execution_count": null,
   "id": "81150c54",
   "metadata": {},
   "outputs": [],
   "source": []
  }
 ],
 "metadata": {
  "kernelspec": {
   "display_name": "Python 3 (ipykernel)",
   "language": "python",
   "name": "python3"
  },
  "language_info": {
   "codemirror_mode": {
    "name": "ipython",
    "version": 3
   },
   "file_extension": ".py",
   "mimetype": "text/x-python",
   "name": "python",
   "nbconvert_exporter": "python",
   "pygments_lexer": "ipython3",
   "version": "3.9.7"
  }
 },
 "nbformat": 4,
 "nbformat_minor": 5
}
